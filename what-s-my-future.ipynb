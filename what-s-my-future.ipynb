{
 "cells": [
  {
   "cell_type": "code",
   "execution_count": 1,
   "id": "b52f2ada",
   "metadata": {
    "_cell_guid": "b1076dfc-b9ad-4769-8c92-a6c4dae69d19",
    "_uuid": "8f2839f25d086af736a60e9eeb907d3b93b6e0e5",
    "execution": {
     "iopub.execute_input": "2021-11-09T09:43:44.682168Z",
     "iopub.status.busy": "2021-11-09T09:43:44.680891Z",
     "iopub.status.idle": "2021-11-09T09:43:44.702374Z",
     "shell.execute_reply": "2021-11-09T09:43:44.702979Z",
     "shell.execute_reply.started": "2021-11-09T08:31:50.887692Z"
    },
    "papermill": {
     "duration": 0.064416,
     "end_time": "2021-11-09T09:43:44.703389",
     "exception": false,
     "start_time": "2021-11-09T09:43:44.638973",
     "status": "completed"
    },
    "tags": []
   },
   "outputs": [
    {
     "name": "stdout",
     "output_type": "stream",
     "text": [
      "/kaggle/input/employee-future-prediction/Employee.csv\n"
     ]
    }
   ],
   "source": [
    "# This Python 3 environment comes with many helpful analytics libraries installed\n",
    "# It is defined by the kaggle/python Docker image: https://github.com/kaggle/docker-python\n",
    "# For example, here's several helpful packages to load\n",
    "\n",
    "import numpy as np # linear algebra\n",
    "import pandas as pd # data processing, CSV file I/O (e.g. pd.read_csv)\n",
    "\n",
    "# Input data files are available in the read-only \"../input/\" directory\n",
    "# For example, running this (by clicking run or pressing Shift+Enter) will list all files under the input directory\n",
    "\n",
    "import os\n",
    "for dirname, _, filenames in os.walk('/kaggle/input'):\n",
    "    for filename in filenames:\n",
    "        print(os.path.join(dirname, filename))\n",
    "\n",
    "# You can write up to 20GB to the current directory (/kaggle/working/) that gets preserved as output when you create a version using \"Save & Run All\" \n",
    "# You can also write temporary files to /kaggle/temp/, but they won't be saved outside of the current session"
   ]
  },
  {
   "cell_type": "markdown",
   "id": "c677ee0c",
   "metadata": {
    "papermill": {
     "duration": 0.037936,
     "end_time": "2021-11-09T09:43:44.779684",
     "exception": false,
     "start_time": "2021-11-09T09:43:44.741748",
     "status": "completed"
    },
    "tags": []
   },
   "source": [
    "# Importing Dependencies "
   ]
  },
  {
   "cell_type": "code",
   "execution_count": 2,
   "id": "999cc626",
   "metadata": {
    "execution": {
     "iopub.execute_input": "2021-11-09T09:43:44.857948Z",
     "iopub.status.busy": "2021-11-09T09:43:44.857231Z",
     "iopub.status.idle": "2021-11-09T09:43:45.878488Z",
     "shell.execute_reply": "2021-11-09T09:43:45.877816Z",
     "shell.execute_reply.started": "2021-11-09T08:31:50.905615Z"
    },
    "papermill": {
     "duration": 1.062499,
     "end_time": "2021-11-09T09:43:45.878682",
     "exception": false,
     "start_time": "2021-11-09T09:43:44.816183",
     "status": "completed"
    },
    "tags": []
   },
   "outputs": [],
   "source": [
    "import matplotlib.pyplot as plt\n",
    "import seaborn as sns\n",
    "\n",
    "%matplotlib inline\n",
    "import warnings\n",
    "warnings.filterwarnings(\"ignore\")"
   ]
  },
  {
   "cell_type": "code",
   "execution_count": 3,
   "id": "6f09b2e5",
   "metadata": {
    "execution": {
     "iopub.execute_input": "2021-11-09T09:43:45.959027Z",
     "iopub.status.busy": "2021-11-09T09:43:45.958303Z",
     "iopub.status.idle": "2021-11-09T09:43:45.981420Z",
     "shell.execute_reply": "2021-11-09T09:43:45.981946Z",
     "shell.execute_reply.started": "2021-11-09T08:31:51.822025Z"
    },
    "papermill": {
     "duration": 0.066216,
     "end_time": "2021-11-09T09:43:45.982173",
     "exception": false,
     "start_time": "2021-11-09T09:43:45.915957",
     "status": "completed"
    },
    "tags": []
   },
   "outputs": [],
   "source": [
    "df = pd.read_csv('/kaggle/input/employee-future-prediction/Employee.csv')"
   ]
  },
  {
   "cell_type": "code",
   "execution_count": 4,
   "id": "279629b9",
   "metadata": {
    "execution": {
     "iopub.execute_input": "2021-11-09T09:43:46.059399Z",
     "iopub.status.busy": "2021-11-09T09:43:46.058389Z",
     "iopub.status.idle": "2021-11-09T09:43:46.081303Z",
     "shell.execute_reply": "2021-11-09T09:43:46.081863Z",
     "shell.execute_reply.started": "2021-11-09T08:31:51.846783Z"
    },
    "papermill": {
     "duration": 0.063215,
     "end_time": "2021-11-09T09:43:46.082054",
     "exception": false,
     "start_time": "2021-11-09T09:43:46.018839",
     "status": "completed"
    },
    "tags": []
   },
   "outputs": [
    {
     "data": {
      "text/html": [
       "<div>\n",
       "<style scoped>\n",
       "    .dataframe tbody tr th:only-of-type {\n",
       "        vertical-align: middle;\n",
       "    }\n",
       "\n",
       "    .dataframe tbody tr th {\n",
       "        vertical-align: top;\n",
       "    }\n",
       "\n",
       "    .dataframe thead th {\n",
       "        text-align: right;\n",
       "    }\n",
       "</style>\n",
       "<table border=\"1\" class=\"dataframe\">\n",
       "  <thead>\n",
       "    <tr style=\"text-align: right;\">\n",
       "      <th></th>\n",
       "      <th>Education</th>\n",
       "      <th>JoiningYear</th>\n",
       "      <th>City</th>\n",
       "      <th>PaymentTier</th>\n",
       "      <th>Age</th>\n",
       "      <th>Gender</th>\n",
       "      <th>EverBenched</th>\n",
       "      <th>ExperienceInCurrentDomain</th>\n",
       "      <th>LeaveOrNot</th>\n",
       "    </tr>\n",
       "  </thead>\n",
       "  <tbody>\n",
       "    <tr>\n",
       "      <th>0</th>\n",
       "      <td>Bachelors</td>\n",
       "      <td>2017</td>\n",
       "      <td>Bangalore</td>\n",
       "      <td>3</td>\n",
       "      <td>34</td>\n",
       "      <td>Male</td>\n",
       "      <td>No</td>\n",
       "      <td>0</td>\n",
       "      <td>0</td>\n",
       "    </tr>\n",
       "    <tr>\n",
       "      <th>1</th>\n",
       "      <td>Bachelors</td>\n",
       "      <td>2013</td>\n",
       "      <td>Pune</td>\n",
       "      <td>1</td>\n",
       "      <td>28</td>\n",
       "      <td>Female</td>\n",
       "      <td>No</td>\n",
       "      <td>3</td>\n",
       "      <td>1</td>\n",
       "    </tr>\n",
       "    <tr>\n",
       "      <th>2</th>\n",
       "      <td>Bachelors</td>\n",
       "      <td>2014</td>\n",
       "      <td>New Delhi</td>\n",
       "      <td>3</td>\n",
       "      <td>38</td>\n",
       "      <td>Female</td>\n",
       "      <td>No</td>\n",
       "      <td>2</td>\n",
       "      <td>0</td>\n",
       "    </tr>\n",
       "    <tr>\n",
       "      <th>3</th>\n",
       "      <td>Masters</td>\n",
       "      <td>2016</td>\n",
       "      <td>Bangalore</td>\n",
       "      <td>3</td>\n",
       "      <td>27</td>\n",
       "      <td>Male</td>\n",
       "      <td>No</td>\n",
       "      <td>5</td>\n",
       "      <td>1</td>\n",
       "    </tr>\n",
       "    <tr>\n",
       "      <th>4</th>\n",
       "      <td>Masters</td>\n",
       "      <td>2017</td>\n",
       "      <td>Pune</td>\n",
       "      <td>3</td>\n",
       "      <td>24</td>\n",
       "      <td>Male</td>\n",
       "      <td>Yes</td>\n",
       "      <td>2</td>\n",
       "      <td>1</td>\n",
       "    </tr>\n",
       "  </tbody>\n",
       "</table>\n",
       "</div>"
      ],
      "text/plain": [
       "   Education  JoiningYear       City  PaymentTier  Age  Gender EverBenched  \\\n",
       "0  Bachelors         2017  Bangalore            3   34    Male          No   \n",
       "1  Bachelors         2013       Pune            1   28  Female          No   \n",
       "2  Bachelors         2014  New Delhi            3   38  Female          No   \n",
       "3    Masters         2016  Bangalore            3   27    Male          No   \n",
       "4    Masters         2017       Pune            3   24    Male         Yes   \n",
       "\n",
       "   ExperienceInCurrentDomain  LeaveOrNot  \n",
       "0                          0           0  \n",
       "1                          3           1  \n",
       "2                          2           0  \n",
       "3                          5           1  \n",
       "4                          2           1  "
      ]
     },
     "execution_count": 4,
     "metadata": {},
     "output_type": "execute_result"
    }
   ],
   "source": [
    "df.head()"
   ]
  },
  {
   "cell_type": "code",
   "execution_count": 5,
   "id": "5ffdb624",
   "metadata": {
    "execution": {
     "iopub.execute_input": "2021-11-09T09:43:46.160520Z",
     "iopub.status.busy": "2021-11-09T09:43:46.159809Z",
     "iopub.status.idle": "2021-11-09T09:43:46.174937Z",
     "shell.execute_reply": "2021-11-09T09:43:46.175597Z",
     "shell.execute_reply.started": "2021-11-09T08:31:51.871291Z"
    },
    "papermill": {
     "duration": 0.057246,
     "end_time": "2021-11-09T09:43:46.175774",
     "exception": false,
     "start_time": "2021-11-09T09:43:46.118528",
     "status": "completed"
    },
    "tags": []
   },
   "outputs": [
    {
     "data": {
      "text/plain": [
       "Bachelors    3601\n",
       "Masters       873\n",
       "PHD           179\n",
       "Name: Education, dtype: int64"
      ]
     },
     "execution_count": 5,
     "metadata": {},
     "output_type": "execute_result"
    }
   ],
   "source": [
    "df['Education'].value_counts()"
   ]
  },
  {
   "cell_type": "code",
   "execution_count": 6,
   "id": "95c61f5d",
   "metadata": {
    "execution": {
     "iopub.execute_input": "2021-11-09T09:43:46.253580Z",
     "iopub.status.busy": "2021-11-09T09:43:46.252906Z",
     "iopub.status.idle": "2021-11-09T09:43:46.262339Z",
     "shell.execute_reply": "2021-11-09T09:43:46.261692Z",
     "shell.execute_reply.started": "2021-11-09T08:31:51.886406Z"
    },
    "papermill": {
     "duration": 0.049517,
     "end_time": "2021-11-09T09:43:46.262487",
     "exception": false,
     "start_time": "2021-11-09T09:43:46.212970",
     "status": "completed"
    },
    "tags": []
   },
   "outputs": [
    {
     "data": {
      "text/plain": [
       "Bangalore    2228\n",
       "Pune         1268\n",
       "New Delhi    1157\n",
       "Name: City, dtype: int64"
      ]
     },
     "execution_count": 6,
     "metadata": {},
     "output_type": "execute_result"
    }
   ],
   "source": [
    "df['City'].value_counts()"
   ]
  },
  {
   "cell_type": "markdown",
   "id": "95e9f000",
   "metadata": {
    "papermill": {
     "duration": 0.036891,
     "end_time": "2021-11-09T09:43:46.336603",
     "exception": false,
     "start_time": "2021-11-09T09:43:46.299712",
     "status": "completed"
    },
    "tags": []
   },
   "source": [
    "# Education"
   ]
  },
  {
   "cell_type": "code",
   "execution_count": 7,
   "id": "87ecf57c",
   "metadata": {
    "execution": {
     "iopub.execute_input": "2021-11-09T09:43:46.417371Z",
     "iopub.status.busy": "2021-11-09T09:43:46.416674Z",
     "iopub.status.idle": "2021-11-09T09:43:46.432201Z",
     "shell.execute_reply": "2021-11-09T09:43:46.432720Z",
     "shell.execute_reply.started": "2021-11-09T08:31:51.905397Z"
    },
    "papermill": {
     "duration": 0.057596,
     "end_time": "2021-11-09T09:43:46.432906",
     "exception": false,
     "start_time": "2021-11-09T09:43:46.375310",
     "status": "completed"
    },
    "tags": []
   },
   "outputs": [
    {
     "data": {
      "text/html": [
       "<div>\n",
       "<style scoped>\n",
       "    .dataframe tbody tr th:only-of-type {\n",
       "        vertical-align: middle;\n",
       "    }\n",
       "\n",
       "    .dataframe tbody tr th {\n",
       "        vertical-align: top;\n",
       "    }\n",
       "\n",
       "    .dataframe thead th {\n",
       "        text-align: right;\n",
       "    }\n",
       "</style>\n",
       "<table border=\"1\" class=\"dataframe\">\n",
       "  <thead>\n",
       "    <tr style=\"text-align: right;\">\n",
       "      <th></th>\n",
       "      <th>Education</th>\n",
       "    </tr>\n",
       "    <tr>\n",
       "      <th>Education</th>\n",
       "      <th></th>\n",
       "    </tr>\n",
       "  </thead>\n",
       "  <tbody>\n",
       "    <tr>\n",
       "      <th>Bachelors</th>\n",
       "      <td>3601</td>\n",
       "    </tr>\n",
       "    <tr>\n",
       "      <th>Masters</th>\n",
       "      <td>873</td>\n",
       "    </tr>\n",
       "    <tr>\n",
       "      <th>PHD</th>\n",
       "      <td>179</td>\n",
       "    </tr>\n",
       "  </tbody>\n",
       "</table>\n",
       "</div>"
      ],
      "text/plain": [
       "           Education\n",
       "Education           \n",
       "Bachelors       3601\n",
       "Masters          873\n",
       "PHD              179"
      ]
     },
     "execution_count": 7,
     "metadata": {},
     "output_type": "execute_result"
    }
   ],
   "source": [
    "out_df=pd.DataFrame(df.groupby('Education')['Education'].count())\n",
    "\n",
    "out_df\n"
   ]
  },
  {
   "cell_type": "code",
   "execution_count": 8,
   "id": "8a30f58a",
   "metadata": {
    "execution": {
     "iopub.execute_input": "2021-11-09T09:43:46.518161Z",
     "iopub.status.busy": "2021-11-09T09:43:46.517501Z",
     "iopub.status.idle": "2021-11-09T09:43:46.920850Z",
     "shell.execute_reply": "2021-11-09T09:43:46.920295Z",
     "shell.execute_reply.started": "2021-11-09T08:31:51.929637Z"
    },
    "papermill": {
     "duration": 0.449896,
     "end_time": "2021-11-09T09:43:46.920996",
     "exception": false,
     "start_time": "2021-11-09T09:43:46.471100",
     "status": "completed"
    },
    "tags": []
   },
   "outputs": [
    {
     "data": {
      "text/plain": [
       "<matplotlib.legend.Legend at 0x7f8a959b6e10>"
      ]
     },
     "execution_count": 8,
     "metadata": {},
     "output_type": "execute_result"
    },
    {
     "data": {
      "image/png": "[encoded data removed]",
      "text/plain": [
       "<Figure size 432x288 with 1 Axes>"
      ]
     },
     "metadata": {},
     "output_type": "display_data"
    }
   ],
   "source": [
    "plt.pie(out_df['Education'],labels=['Bachelors','Masters','PHD'],autopct='%.0f%%',radius=2,explode = (0.02,0.1, 0.1),shadow=True)\n",
    "plt.legend( \n",
    "          title =\"Education\",\n",
    "         \n",
    "          bbox_to_anchor =(1, 0.5,0.5, 1))"
   ]
  },
  {
   "cell_type": "markdown",
   "id": "9291fb9a",
   "metadata": {
    "papermill": {
     "duration": 0.03968,
     "end_time": "2021-11-09T09:43:47.060500",
     "exception": false,
     "start_time": "2021-11-09T09:43:47.020820",
     "status": "completed"
    },
    "tags": []
   },
   "source": [
    "**Employee who leave company in next 2 years**"
   ]
  },
  {
   "cell_type": "code",
   "execution_count": 9,
   "id": "fe840135",
   "metadata": {
    "execution": {
     "iopub.execute_input": "2021-11-09T09:43:47.154232Z",
     "iopub.status.busy": "2021-11-09T09:43:47.153520Z",
     "iopub.status.idle": "2021-11-09T09:43:47.528314Z",
     "shell.execute_reply": "2021-11-09T09:43:47.527746Z",
     "shell.execute_reply.started": "2021-11-09T08:31:52.319461Z"
    },
    "papermill": {
     "duration": 0.428269,
     "end_time": "2021-11-09T09:43:47.528465",
     "exception": false,
     "start_time": "2021-11-09T09:43:47.100196",
     "status": "completed"
    },
    "tags": []
   },
   "outputs": [
    {
     "data": {
      "image/png": "[encoded data removed]",
      "text/plain": [
       "<Figure size 432x288 with 1 Axes>"
      ]
     },
     "metadata": {
      "needs_background": "light"
     },
     "output_type": "display_data"
    }
   ],
   "source": [
    "sns.countplot(df['Education'], hue = df['LeaveOrNot'])\n",
    "plt.tight_layout()\n",
    "plt.grid(True)\n",
    "plt.show()"
   ]
  },
  {
   "cell_type": "markdown",
   "id": "f8e92a5d",
   "metadata": {
    "papermill": {
     "duration": 0.040152,
     "end_time": "2021-11-09T09:43:47.608956",
     "exception": false,
     "start_time": "2021-11-09T09:43:47.568804",
     "status": "completed"
    },
    "tags": []
   },
   "source": [
    "# Joining Year"
   ]
  },
  {
   "cell_type": "code",
   "execution_count": 10,
   "id": "8fee7b3c",
   "metadata": {
    "execution": {
     "iopub.execute_input": "2021-11-09T09:43:47.695673Z",
     "iopub.status.busy": "2021-11-09T09:43:47.694987Z",
     "iopub.status.idle": "2021-11-09T09:43:47.707505Z",
     "shell.execute_reply": "2021-11-09T09:43:47.708101Z",
     "shell.execute_reply.started": "2021-11-09T08:31:52.571265Z"
    },
    "papermill": {
     "duration": 0.059065,
     "end_time": "2021-11-09T09:43:47.708336",
     "exception": false,
     "start_time": "2021-11-09T09:43:47.649271",
     "status": "completed"
    },
    "tags": []
   },
   "outputs": [
    {
     "data": {
      "text/html": [
       "<div>\n",
       "<style scoped>\n",
       "    .dataframe tbody tr th:only-of-type {\n",
       "        vertical-align: middle;\n",
       "    }\n",
       "\n",
       "    .dataframe tbody tr th {\n",
       "        vertical-align: top;\n",
       "    }\n",
       "\n",
       "    .dataframe thead th {\n",
       "        text-align: right;\n",
       "    }\n",
       "</style>\n",
       "<table border=\"1\" class=\"dataframe\">\n",
       "  <thead>\n",
       "    <tr style=\"text-align: right;\">\n",
       "      <th></th>\n",
       "      <th></th>\n",
       "      <th>JoiningYear</th>\n",
       "    </tr>\n",
       "    <tr>\n",
       "      <th>JoiningYear</th>\n",
       "      <th>LeaveOrNot</th>\n",
       "      <th></th>\n",
       "    </tr>\n",
       "  </thead>\n",
       "  <tbody>\n",
       "    <tr>\n",
       "      <th rowspan=\"2\" valign=\"top\">2012</th>\n",
       "      <th>0</th>\n",
       "      <td>395</td>\n",
       "    </tr>\n",
       "    <tr>\n",
       "      <th>1</th>\n",
       "      <td>109</td>\n",
       "    </tr>\n",
       "    <tr>\n",
       "      <th rowspan=\"2\" valign=\"top\">2013</th>\n",
       "      <th>0</th>\n",
       "      <td>445</td>\n",
       "    </tr>\n",
       "    <tr>\n",
       "      <th>1</th>\n",
       "      <td>224</td>\n",
       "    </tr>\n",
       "    <tr>\n",
       "      <th rowspan=\"2\" valign=\"top\">2014</th>\n",
       "      <th>0</th>\n",
       "      <td>526</td>\n",
       "    </tr>\n",
       "    <tr>\n",
       "      <th>1</th>\n",
       "      <td>173</td>\n",
       "    </tr>\n",
       "    <tr>\n",
       "      <th rowspan=\"2\" valign=\"top\">2015</th>\n",
       "      <th>0</th>\n",
       "      <td>463</td>\n",
       "    </tr>\n",
       "    <tr>\n",
       "      <th>1</th>\n",
       "      <td>318</td>\n",
       "    </tr>\n",
       "    <tr>\n",
       "      <th rowspan=\"2\" valign=\"top\">2016</th>\n",
       "      <th>0</th>\n",
       "      <td>408</td>\n",
       "    </tr>\n",
       "    <tr>\n",
       "      <th>1</th>\n",
       "      <td>117</td>\n",
       "    </tr>\n",
       "    <tr>\n",
       "      <th rowspan=\"2\" valign=\"top\">2017</th>\n",
       "      <th>0</th>\n",
       "      <td>811</td>\n",
       "    </tr>\n",
       "    <tr>\n",
       "      <th>1</th>\n",
       "      <td>297</td>\n",
       "    </tr>\n",
       "    <tr>\n",
       "      <th rowspan=\"2\" valign=\"top\">2018</th>\n",
       "      <th>0</th>\n",
       "      <td>5</td>\n",
       "    </tr>\n",
       "    <tr>\n",
       "      <th>1</th>\n",
       "      <td>362</td>\n",
       "    </tr>\n",
       "  </tbody>\n",
       "</table>\n",
       "</div>"
      ],
      "text/plain": [
       "                        JoiningYear\n",
       "JoiningYear LeaveOrNot             \n",
       "2012        0                   395\n",
       "            1                   109\n",
       "2013        0                   445\n",
       "            1                   224\n",
       "2014        0                   526\n",
       "            1                   173\n",
       "2015        0                   463\n",
       "            1                   318\n",
       "2016        0                   408\n",
       "            1                   117\n",
       "2017        0                   811\n",
       "            1                   297\n",
       "2018        0                     5\n",
       "            1                   362"
      ]
     },
     "execution_count": 10,
     "metadata": {},
     "output_type": "execute_result"
    }
   ],
   "source": [
    "new_df = pd.DataFrame(df.groupby(['JoiningYear' , 'LeaveOrNot', ])['JoiningYear'].count())\n",
    "new_df"
   ]
  },
  {
   "cell_type": "markdown",
   "id": "59985e2e",
   "metadata": {
    "papermill": {
     "duration": 0.042276,
     "end_time": "2021-11-09T09:43:47.792293",
     "exception": false,
     "start_time": "2021-11-09T09:43:47.750017",
     "status": "completed"
    },
    "tags": []
   },
   "source": [
    "**Employee who leave company in next 2 years**"
   ]
  },
  {
   "cell_type": "code",
   "execution_count": 11,
   "id": "bc844919",
   "metadata": {
    "execution": {
     "iopub.execute_input": "2021-11-09T09:43:47.919755Z",
     "iopub.status.busy": "2021-11-09T09:43:47.914372Z",
     "iopub.status.idle": "2021-11-09T09:43:48.216160Z",
     "shell.execute_reply": "2021-11-09T09:43:48.216712Z",
     "shell.execute_reply.started": "2021-11-09T08:31:52.585643Z"
    },
    "papermill": {
     "duration": 0.383051,
     "end_time": "2021-11-09T09:43:48.216919",
     "exception": false,
     "start_time": "2021-11-09T09:43:47.833868",
     "status": "completed"
    },
    "tags": []
   },
   "outputs": [
    {
     "data": {
      "image/png": "[encoded data removed]",
      "text/plain": [
       "<Figure size 432x288 with 1 Axes>"
      ]
     },
     "metadata": {
      "needs_background": "light"
     },
     "output_type": "display_data"
    }
   ],
   "source": [
    "sns.countplot(df['JoiningYear'],hue=df['LeaveOrNot'])\n",
    "plt.tight_layout()\n",
    "plt.grid(True)\n",
    "plt.show()"
   ]
  },
  {
   "cell_type": "markdown",
   "id": "4e22fa6c",
   "metadata": {
    "papermill": {
     "duration": 0.041406,
     "end_time": "2021-11-09T09:43:48.300485",
     "exception": false,
     "start_time": "2021-11-09T09:43:48.259079",
     "status": "completed"
    },
    "tags": []
   },
   "source": [
    "# City"
   ]
  },
  {
   "cell_type": "code",
   "execution_count": 12,
   "id": "51eaf593",
   "metadata": {
    "execution": {
     "iopub.execute_input": "2021-11-09T09:43:48.397704Z",
     "iopub.status.busy": "2021-11-09T09:43:48.396619Z",
     "iopub.status.idle": "2021-11-09T09:43:48.400560Z",
     "shell.execute_reply": "2021-11-09T09:43:48.401074Z",
     "shell.execute_reply.started": "2021-11-09T08:31:53.001979Z"
    },
    "papermill": {
     "duration": 0.05877,
     "end_time": "2021-11-09T09:43:48.401304",
     "exception": false,
     "start_time": "2021-11-09T09:43:48.342534",
     "status": "completed"
    },
    "tags": []
   },
   "outputs": [
    {
     "data": {
      "text/html": [
       "<div>\n",
       "<style scoped>\n",
       "    .dataframe tbody tr th:only-of-type {\n",
       "        vertical-align: middle;\n",
       "    }\n",
       "\n",
       "    .dataframe tbody tr th {\n",
       "        vertical-align: top;\n",
       "    }\n",
       "\n",
       "    .dataframe thead th {\n",
       "        text-align: right;\n",
       "    }\n",
       "</style>\n",
       "<table border=\"1\" class=\"dataframe\">\n",
       "  <thead>\n",
       "    <tr style=\"text-align: right;\">\n",
       "      <th></th>\n",
       "      <th>City</th>\n",
       "    </tr>\n",
       "    <tr>\n",
       "      <th>City</th>\n",
       "      <th></th>\n",
       "    </tr>\n",
       "  </thead>\n",
       "  <tbody>\n",
       "    <tr>\n",
       "      <th>Bangalore</th>\n",
       "      <td>2228</td>\n",
       "    </tr>\n",
       "    <tr>\n",
       "      <th>New Delhi</th>\n",
       "      <td>1157</td>\n",
       "    </tr>\n",
       "    <tr>\n",
       "      <th>Pune</th>\n",
       "      <td>1268</td>\n",
       "    </tr>\n",
       "  </tbody>\n",
       "</table>\n",
       "</div>"
      ],
      "text/plain": [
       "           City\n",
       "City           \n",
       "Bangalore  2228\n",
       "New Delhi  1157\n",
       "Pune       1268"
      ]
     },
     "execution_count": 12,
     "metadata": {},
     "output_type": "execute_result"
    }
   ],
   "source": [
    "out_df=pd.DataFrame(df.groupby('City')['City'].count())\n",
    "\n",
    "out_df"
   ]
  },
  {
   "cell_type": "code",
   "execution_count": 13,
   "id": "3d78f664",
   "metadata": {
    "execution": {
     "iopub.execute_input": "2021-11-09T09:43:48.495513Z",
     "iopub.status.busy": "2021-11-09T09:43:48.490806Z",
     "iopub.status.idle": "2021-11-09T09:43:48.759811Z",
     "shell.execute_reply": "2021-11-09T09:43:48.759229Z",
     "shell.execute_reply.started": "2021-11-09T08:31:53.015684Z"
    },
    "papermill": {
     "duration": 0.316244,
     "end_time": "2021-11-09T09:43:48.759989",
     "exception": false,
     "start_time": "2021-11-09T09:43:48.443745",
     "status": "completed"
    },
    "tags": []
   },
   "outputs": [
    {
     "data": {
      "text/plain": [
       "<matplotlib.legend.Legend at 0x7f8a95764c10>"
      ]
     },
     "execution_count": 13,
     "metadata": {},
     "output_type": "execute_result"
    },
    {
     "data": {
      "image/png": "[encoded data removed]",
      "text/plain": [
       "<Figure size 432x288 with 1 Axes>"
      ]
     },
     "metadata": {},
     "output_type": "display_data"
    }
   ],
   "source": [
    "plt.pie(out_df['City'],labels=['Banglore','New Delhi','Pune'],autopct='%.0f%%',radius=2,explode = (0.02,0.1, 0.1),shadow=True)\n",
    "plt.legend( \n",
    "          title =\"City\",\n",
    "         \n",
    "          bbox_to_anchor =(1, 0.5,0.5, 1))"
   ]
  },
  {
   "cell_type": "markdown",
   "id": "7e7b9a73",
   "metadata": {
    "papermill": {
     "duration": 0.043925,
     "end_time": "2021-11-09T09:43:48.848938",
     "exception": false,
     "start_time": "2021-11-09T09:43:48.805013",
     "status": "completed"
    },
    "tags": []
   },
   "source": [
    "# Age"
   ]
  },
  {
   "cell_type": "code",
   "execution_count": 14,
   "id": "aa01dc3c",
   "metadata": {
    "execution": {
     "iopub.execute_input": "2021-11-09T09:43:48.942970Z",
     "iopub.status.busy": "2021-11-09T09:43:48.942247Z",
     "iopub.status.idle": "2021-11-09T09:43:49.353615Z",
     "shell.execute_reply": "2021-11-09T09:43:49.352847Z",
     "shell.execute_reply.started": "2021-11-09T08:31:53.281546Z"
    },
    "papermill": {
     "duration": 0.460734,
     "end_time": "2021-11-09T09:43:49.353778",
     "exception": false,
     "start_time": "2021-11-09T09:43:48.893044",
     "status": "completed"
    },
    "tags": []
   },
   "outputs": [
    {
     "data": {
      "text/plain": [
       "<Figure size 720x576 with 0 Axes>"
      ]
     },
     "metadata": {},
     "output_type": "display_data"
    },
    {
     "data": {
      "image/png": "[encoded data removed]",
      "text/plain": [
       "<Figure size 360x360 with 1 Axes>"
      ]
     },
     "metadata": {
      "needs_background": "light"
     },
     "output_type": "display_data"
    }
   ],
   "source": [
    "plt.figure(figsize=(10,8))\n",
    "sns.displot(df['Age'] , color='green', bins=15)\n",
    "plt.tight_layout()\n",
    "plt.grid(True)\n",
    "plt.show()"
   ]
  },
  {
   "cell_type": "markdown",
   "id": "281d2acd",
   "metadata": {
    "papermill": {
     "duration": 0.044868,
     "end_time": "2021-11-09T09:43:49.444048",
     "exception": false,
     "start_time": "2021-11-09T09:43:49.399180",
     "status": "completed"
    },
    "tags": []
   },
   "source": [
    "# Gender"
   ]
  },
  {
   "cell_type": "code",
   "execution_count": 15,
   "id": "15b422b7",
   "metadata": {
    "execution": {
     "iopub.execute_input": "2021-11-09T09:43:49.543362Z",
     "iopub.status.busy": "2021-11-09T09:43:49.542670Z",
     "iopub.status.idle": "2021-11-09T09:43:49.645505Z",
     "shell.execute_reply": "2021-11-09T09:43:49.646050Z",
     "shell.execute_reply.started": "2021-11-09T08:31:53.674799Z"
    },
    "papermill": {
     "duration": 0.156863,
     "end_time": "2021-11-09T09:43:49.646271",
     "exception": false,
     "start_time": "2021-11-09T09:43:49.489408",
     "status": "completed"
    },
    "tags": []
   },
   "outputs": [
    {
     "data": {
      "image/png": "[encoded data removed]",
      "text/plain": [
       "<Figure size 432x288 with 1 Axes>"
      ]
     },
     "metadata": {},
     "output_type": "display_data"
    }
   ],
   "source": [
    "out_df=pd.DataFrame(df.groupby('Gender')['Gender'].count())\n",
    "colors = ['#61ad66','#3b528b']\n",
    "plt.pie(out_df['Gender'] , labels = ['Female', 'Male'],colors = colors , radius = 2 ,explode = (0, 0.1), shadow = True)\n",
    "plt.show()"
   ]
  },
  {
   "cell_type": "markdown",
   "id": "6bd78a13",
   "metadata": {
    "papermill": {
     "duration": 0.048241,
     "end_time": "2021-11-09T09:43:49.740833",
     "exception": false,
     "start_time": "2021-11-09T09:43:49.692592",
     "status": "completed"
    },
    "tags": []
   },
   "source": [
    "# Data Preprocessing"
   ]
  },
  {
   "cell_type": "code",
   "execution_count": 16,
   "id": "40f50b8f",
   "metadata": {
    "execution": {
     "iopub.execute_input": "2021-11-09T09:43:49.846688Z",
     "iopub.status.busy": "2021-11-09T09:43:49.845943Z",
     "iopub.status.idle": "2021-11-09T09:43:49.848845Z",
     "shell.execute_reply": "2021-11-09T09:43:49.849357Z",
     "shell.execute_reply.started": "2021-11-09T08:31:53.783725Z"
    },
    "papermill": {
     "duration": 0.062778,
     "end_time": "2021-11-09T09:43:49.849569",
     "exception": false,
     "start_time": "2021-11-09T09:43:49.786791",
     "status": "completed"
    },
    "tags": []
   },
   "outputs": [
    {
     "data": {
      "text/html": [
       "<div>\n",
       "<style scoped>\n",
       "    .dataframe tbody tr th:only-of-type {\n",
       "        vertical-align: middle;\n",
       "    }\n",
       "\n",
       "    .dataframe tbody tr th {\n",
       "        vertical-align: top;\n",
       "    }\n",
       "\n",
       "    .dataframe thead th {\n",
       "        text-align: right;\n",
       "    }\n",
       "</style>\n",
       "<table border=\"1\" class=\"dataframe\">\n",
       "  <thead>\n",
       "    <tr style=\"text-align: right;\">\n",
       "      <th></th>\n",
       "      <th>Education</th>\n",
       "      <th>JoiningYear</th>\n",
       "      <th>City</th>\n",
       "      <th>PaymentTier</th>\n",
       "      <th>Age</th>\n",
       "      <th>Gender</th>\n",
       "      <th>EverBenched</th>\n",
       "      <th>ExperienceInCurrentDomain</th>\n",
       "      <th>LeaveOrNot</th>\n",
       "    </tr>\n",
       "  </thead>\n",
       "  <tbody>\n",
       "    <tr>\n",
       "      <th>0</th>\n",
       "      <td>Bachelors</td>\n",
       "      <td>2017</td>\n",
       "      <td>Bangalore</td>\n",
       "      <td>3</td>\n",
       "      <td>34</td>\n",
       "      <td>Male</td>\n",
       "      <td>No</td>\n",
       "      <td>0</td>\n",
       "      <td>0</td>\n",
       "    </tr>\n",
       "    <tr>\n",
       "      <th>1</th>\n",
       "      <td>Bachelors</td>\n",
       "      <td>2013</td>\n",
       "      <td>Pune</td>\n",
       "      <td>1</td>\n",
       "      <td>28</td>\n",
       "      <td>Female</td>\n",
       "      <td>No</td>\n",
       "      <td>3</td>\n",
       "      <td>1</td>\n",
       "    </tr>\n",
       "    <tr>\n",
       "      <th>2</th>\n",
       "      <td>Bachelors</td>\n",
       "      <td>2014</td>\n",
       "      <td>New Delhi</td>\n",
       "      <td>3</td>\n",
       "      <td>38</td>\n",
       "      <td>Female</td>\n",
       "      <td>No</td>\n",
       "      <td>2</td>\n",
       "      <td>0</td>\n",
       "    </tr>\n",
       "    <tr>\n",
       "      <th>3</th>\n",
       "      <td>Masters</td>\n",
       "      <td>2016</td>\n",
       "      <td>Bangalore</td>\n",
       "      <td>3</td>\n",
       "      <td>27</td>\n",
       "      <td>Male</td>\n",
       "      <td>No</td>\n",
       "      <td>5</td>\n",
       "      <td>1</td>\n",
       "    </tr>\n",
       "    <tr>\n",
       "      <th>4</th>\n",
       "      <td>Masters</td>\n",
       "      <td>2017</td>\n",
       "      <td>Pune</td>\n",
       "      <td>3</td>\n",
       "      <td>24</td>\n",
       "      <td>Male</td>\n",
       "      <td>Yes</td>\n",
       "      <td>2</td>\n",
       "      <td>1</td>\n",
       "    </tr>\n",
       "  </tbody>\n",
       "</table>\n",
       "</div>"
      ],
      "text/plain": [
       "   Education  JoiningYear       City  PaymentTier  Age  Gender EverBenched  \\\n",
       "0  Bachelors         2017  Bangalore            3   34    Male          No   \n",
       "1  Bachelors         2013       Pune            1   28  Female          No   \n",
       "2  Bachelors         2014  New Delhi            3   38  Female          No   \n",
       "3    Masters         2016  Bangalore            3   27    Male          No   \n",
       "4    Masters         2017       Pune            3   24    Male         Yes   \n",
       "\n",
       "   ExperienceInCurrentDomain  LeaveOrNot  \n",
       "0                          0           0  \n",
       "1                          3           1  \n",
       "2                          2           0  \n",
       "3                          5           1  \n",
       "4                          2           1  "
      ]
     },
     "execution_count": 16,
     "metadata": {},
     "output_type": "execute_result"
    }
   ],
   "source": [
    "df.head()"
   ]
  },
  {
   "cell_type": "code",
   "execution_count": 17,
   "id": "3ec80041",
   "metadata": {
    "execution": {
     "iopub.execute_input": "2021-11-09T09:43:49.947253Z",
     "iopub.status.busy": "2021-11-09T09:43:49.946479Z",
     "iopub.status.idle": "2021-11-09T09:43:50.086831Z",
     "shell.execute_reply": "2021-11-09T09:43:50.086104Z",
     "shell.execute_reply.started": "2021-11-09T08:31:53.799212Z"
    },
    "papermill": {
     "duration": 0.190455,
     "end_time": "2021-11-09T09:43:50.087003",
     "exception": false,
     "start_time": "2021-11-09T09:43:49.896548",
     "status": "completed"
    },
    "tags": []
   },
   "outputs": [],
   "source": [
    "from sklearn.preprocessing import LabelEncoder\n",
    "le = LabelEncoder()"
   ]
  },
  {
   "cell_type": "code",
   "execution_count": 18,
   "id": "bd57ff20",
   "metadata": {
    "execution": {
     "iopub.execute_input": "2021-11-09T09:43:50.186770Z",
     "iopub.status.busy": "2021-11-09T09:43:50.186002Z",
     "iopub.status.idle": "2021-11-09T09:43:50.187842Z",
     "shell.execute_reply": "2021-11-09T09:43:50.188483Z",
     "shell.execute_reply.started": "2021-11-09T08:31:53.930201Z"
    },
    "papermill": {
     "duration": 0.054595,
     "end_time": "2021-11-09T09:43:50.188689",
     "exception": false,
     "start_time": "2021-11-09T09:43:50.134094",
     "status": "completed"
    },
    "tags": []
   },
   "outputs": [],
   "source": [
    "feature = ['Education', 'JoiningYear', 'City', 'PaymentTier','Gender', 'EverBenched', 'ExperienceInCurrentDomain']"
   ]
  },
  {
   "cell_type": "code",
   "execution_count": 19,
   "id": "75acddeb",
   "metadata": {
    "execution": {
     "iopub.execute_input": "2021-11-09T09:43:50.285641Z",
     "iopub.status.busy": "2021-11-09T09:43:50.284889Z",
     "iopub.status.idle": "2021-11-09T09:43:50.298669Z",
     "shell.execute_reply": "2021-11-09T09:43:50.299290Z",
     "shell.execute_reply.started": "2021-11-09T08:31:53.936014Z"
    },
    "papermill": {
     "duration": 0.064084,
     "end_time": "2021-11-09T09:43:50.299505",
     "exception": false,
     "start_time": "2021-11-09T09:43:50.235421",
     "status": "completed"
    },
    "tags": []
   },
   "outputs": [],
   "source": [
    "for col in feature:\n",
    "    df[col] = le.fit_transform(df[col])"
   ]
  },
  {
   "cell_type": "code",
   "execution_count": 20,
   "id": "2657dd46",
   "metadata": {
    "execution": {
     "iopub.execute_input": "2021-11-09T09:43:50.395485Z",
     "iopub.status.busy": "2021-11-09T09:43:50.394797Z",
     "iopub.status.idle": "2021-11-09T09:43:50.405808Z",
     "shell.execute_reply": "2021-11-09T09:43:50.406455Z",
     "shell.execute_reply.started": "2021-11-09T08:31:53.957341Z"
    },
    "papermill": {
     "duration": 0.060732,
     "end_time": "2021-11-09T09:43:50.406652",
     "exception": false,
     "start_time": "2021-11-09T09:43:50.345920",
     "status": "completed"
    },
    "tags": []
   },
   "outputs": [
    {
     "data": {
      "text/html": [
       "<div>\n",
       "<style scoped>\n",
       "    .dataframe tbody tr th:only-of-type {\n",
       "        vertical-align: middle;\n",
       "    }\n",
       "\n",
       "    .dataframe tbody tr th {\n",
       "        vertical-align: top;\n",
       "    }\n",
       "\n",
       "    .dataframe thead th {\n",
       "        text-align: right;\n",
       "    }\n",
       "</style>\n",
       "<table border=\"1\" class=\"dataframe\">\n",
       "  <thead>\n",
       "    <tr style=\"text-align: right;\">\n",
       "      <th></th>\n",
       "      <th>Education</th>\n",
       "      <th>JoiningYear</th>\n",
       "      <th>City</th>\n",
       "      <th>PaymentTier</th>\n",
       "      <th>Age</th>\n",
       "      <th>Gender</th>\n",
       "      <th>EverBenched</th>\n",
       "      <th>ExperienceInCurrentDomain</th>\n",
       "      <th>LeaveOrNot</th>\n",
       "    </tr>\n",
       "  </thead>\n",
       "  <tbody>\n",
       "    <tr>\n",
       "      <th>0</th>\n",
       "      <td>0</td>\n",
       "      <td>5</td>\n",
       "      <td>0</td>\n",
       "      <td>2</td>\n",
       "      <td>34</td>\n",
       "      <td>1</td>\n",
       "      <td>0</td>\n",
       "      <td>0</td>\n",
       "      <td>0</td>\n",
       "    </tr>\n",
       "    <tr>\n",
       "      <th>1</th>\n",
       "      <td>0</td>\n",
       "      <td>1</td>\n",
       "      <td>2</td>\n",
       "      <td>0</td>\n",
       "      <td>28</td>\n",
       "      <td>0</td>\n",
       "      <td>0</td>\n",
       "      <td>3</td>\n",
       "      <td>1</td>\n",
       "    </tr>\n",
       "    <tr>\n",
       "      <th>2</th>\n",
       "      <td>0</td>\n",
       "      <td>2</td>\n",
       "      <td>1</td>\n",
       "      <td>2</td>\n",
       "      <td>38</td>\n",
       "      <td>0</td>\n",
       "      <td>0</td>\n",
       "      <td>2</td>\n",
       "      <td>0</td>\n",
       "    </tr>\n",
       "    <tr>\n",
       "      <th>3</th>\n",
       "      <td>1</td>\n",
       "      <td>4</td>\n",
       "      <td>0</td>\n",
       "      <td>2</td>\n",
       "      <td>27</td>\n",
       "      <td>1</td>\n",
       "      <td>0</td>\n",
       "      <td>5</td>\n",
       "      <td>1</td>\n",
       "    </tr>\n",
       "    <tr>\n",
       "      <th>4</th>\n",
       "      <td>1</td>\n",
       "      <td>5</td>\n",
       "      <td>2</td>\n",
       "      <td>2</td>\n",
       "      <td>24</td>\n",
       "      <td>1</td>\n",
       "      <td>1</td>\n",
       "      <td>2</td>\n",
       "      <td>1</td>\n",
       "    </tr>\n",
       "  </tbody>\n",
       "</table>\n",
       "</div>"
      ],
      "text/plain": [
       "   Education  JoiningYear  City  PaymentTier  Age  Gender  EverBenched  \\\n",
       "0          0            5     0            2   34       1            0   \n",
       "1          0            1     2            0   28       0            0   \n",
       "2          0            2     1            2   38       0            0   \n",
       "3          1            4     0            2   27       1            0   \n",
       "4          1            5     2            2   24       1            1   \n",
       "\n",
       "   ExperienceInCurrentDomain  LeaveOrNot  \n",
       "0                          0           0  \n",
       "1                          3           1  \n",
       "2                          2           0  \n",
       "3                          5           1  \n",
       "4                          2           1  "
      ]
     },
     "execution_count": 20,
     "metadata": {},
     "output_type": "execute_result"
    }
   ],
   "source": [
    "df.head()"
   ]
  },
  {
   "cell_type": "code",
   "execution_count": 21,
   "id": "e565dc25",
   "metadata": {
    "execution": {
     "iopub.execute_input": "2021-11-09T09:43:50.504399Z",
     "iopub.status.busy": "2021-11-09T09:43:50.503710Z",
     "iopub.status.idle": "2021-11-09T09:43:50.562570Z",
     "shell.execute_reply": "2021-11-09T09:43:50.563066Z",
     "shell.execute_reply.started": "2021-11-09T08:31:53.971130Z"
    },
    "papermill": {
     "duration": 0.109735,
     "end_time": "2021-11-09T09:43:50.563322",
     "exception": false,
     "start_time": "2021-11-09T09:43:50.453587",
     "status": "completed"
    },
    "tags": []
   },
   "outputs": [],
   "source": [
    "from sklearn.model_selection import train_test_split"
   ]
  },
  {
   "cell_type": "code",
   "execution_count": 22,
   "id": "b2419148",
   "metadata": {
    "execution": {
     "iopub.execute_input": "2021-11-09T09:43:50.663426Z",
     "iopub.status.busy": "2021-11-09T09:43:50.662709Z",
     "iopub.status.idle": "2021-11-09T09:43:50.667525Z",
     "shell.execute_reply": "2021-11-09T09:43:50.668063Z",
     "shell.execute_reply.started": "2021-11-09T08:31:54.025612Z"
    },
    "papermill": {
     "duration": 0.058255,
     "end_time": "2021-11-09T09:43:50.668266",
     "exception": false,
     "start_time": "2021-11-09T09:43:50.610011",
     "status": "completed"
    },
    "tags": []
   },
   "outputs": [],
   "source": [
    "x = df.drop(['LeaveOrNot' , 'ExperienceInCurrentDomain'] , axis = 1)\n",
    "y = df.LeaveOrNot"
   ]
  },
  {
   "cell_type": "code",
   "execution_count": 23,
   "id": "581cbfa9",
   "metadata": {
    "execution": {
     "iopub.execute_input": "2021-11-09T09:43:50.771227Z",
     "iopub.status.busy": "2021-11-09T09:43:50.770047Z",
     "iopub.status.idle": "2021-11-09T09:43:50.774097Z",
     "shell.execute_reply": "2021-11-09T09:43:50.774772Z",
     "shell.execute_reply.started": "2021-11-09T08:31:54.032785Z"
    },
    "papermill": {
     "duration": 0.058936,
     "end_time": "2021-11-09T09:43:50.774960",
     "exception": false,
     "start_time": "2021-11-09T09:43:50.716024",
     "status": "completed"
    },
    "tags": []
   },
   "outputs": [],
   "source": [
    "x_train, x_test, y_train, y_test = train_test_split(x, y ,test_size = 0.2 , random_state = 12)"
   ]
  },
  {
   "cell_type": "markdown",
   "id": "bc1b09af",
   "metadata": {
    "papermill": {
     "duration": 0.046158,
     "end_time": "2021-11-09T09:43:50.869232",
     "exception": false,
     "start_time": "2021-11-09T09:43:50.823074",
     "status": "completed"
    },
    "tags": []
   },
   "source": [
    "# Model Fitting"
   ]
  },
  {
   "cell_type": "code",
   "execution_count": 24,
   "id": "64db16a3",
   "metadata": {
    "execution": {
     "iopub.execute_input": "2021-11-09T09:43:50.966871Z",
     "iopub.status.busy": "2021-11-09T09:43:50.965813Z",
     "iopub.status.idle": "2021-11-09T09:43:50.969795Z",
     "shell.execute_reply": "2021-11-09T09:43:50.970341Z",
     "shell.execute_reply.started": "2021-11-09T08:31:54.047777Z"
    },
    "papermill": {
     "duration": 0.054953,
     "end_time": "2021-11-09T09:43:50.970562",
     "exception": false,
     "start_time": "2021-11-09T09:43:50.915609",
     "status": "completed"
    },
    "tags": []
   },
   "outputs": [],
   "source": [
    "scores = []\n",
    "from sklearn.metrics import f1_score"
   ]
  },
  {
   "cell_type": "markdown",
   "id": "6c3eeb98",
   "metadata": {
    "papermill": {
     "duration": 0.047623,
     "end_time": "2021-11-09T09:43:51.065168",
     "exception": false,
     "start_time": "2021-11-09T09:43:51.017545",
     "status": "completed"
    },
    "tags": []
   },
   "source": [
    "**KNeighbours Classifier**"
   ]
  },
  {
   "cell_type": "code",
   "execution_count": 25,
   "id": "a0320f84",
   "metadata": {
    "execution": {
     "iopub.execute_input": "2021-11-09T09:43:51.161919Z",
     "iopub.status.busy": "2021-11-09T09:43:51.161285Z",
     "iopub.status.idle": "2021-11-09T09:43:51.335698Z",
     "shell.execute_reply": "2021-11-09T09:43:51.335028Z",
     "shell.execute_reply.started": "2021-11-09T08:43:59.031106Z"
    },
    "papermill": {
     "duration": 0.223935,
     "end_time": "2021-11-09T09:43:51.335861",
     "exception": false,
     "start_time": "2021-11-09T09:43:51.111926",
     "status": "completed"
    },
    "tags": []
   },
   "outputs": [
    {
     "data": {
      "text/plain": [
       "KNeighborsClassifier(n_neighbors=7)"
      ]
     },
     "execution_count": 25,
     "metadata": {},
     "output_type": "execute_result"
    }
   ],
   "source": [
    "from sklearn.neighbors import KNeighborsClassifier\n",
    "\n",
    "model = KNeighborsClassifier(n_neighbors = 7 )\n",
    "model.fit(x_train, y_train)"
   ]
  },
  {
   "cell_type": "code",
   "execution_count": 26,
   "id": "202c8077",
   "metadata": {
    "execution": {
     "iopub.execute_input": "2021-11-09T09:43:51.433805Z",
     "iopub.status.busy": "2021-11-09T09:43:51.433075Z",
     "iopub.status.idle": "2021-11-09T09:43:51.581917Z",
     "shell.execute_reply": "2021-11-09T09:43:51.582553Z",
     "shell.execute_reply.started": "2021-11-09T08:59:50.918275Z"
    },
    "papermill": {
     "duration": 0.199646,
     "end_time": "2021-11-09T09:43:51.582738",
     "exception": false,
     "start_time": "2021-11-09T09:43:51.383092",
     "status": "completed"
    },
    "tags": []
   },
   "outputs": [
    {
     "data": {
      "text/plain": [
       "0.8335123523093448"
      ]
     },
     "execution_count": 26,
     "metadata": {},
     "output_type": "execute_result"
    }
   ],
   "source": [
    "pred = model.predict(x_test)\n",
    "scores.append({\n",
    "    'model' : 'KNeighborsClassifier',\n",
    "    'score' :  model.score(x_test,y_test),\n",
    "'f1_score'  :  f1_score(y_test , pred)\n",
    "})\n",
    "\n",
    "model.score(x_test,y_test)"
   ]
  },
  {
   "cell_type": "markdown",
   "id": "49bc7b35",
   "metadata": {
    "papermill": {
     "duration": 0.046891,
     "end_time": "2021-11-09T09:43:51.676612",
     "exception": false,
     "start_time": "2021-11-09T09:43:51.629721",
     "status": "completed"
    },
    "tags": []
   },
   "source": [
    "# RandomForest Classifier"
   ]
  },
  {
   "cell_type": "code",
   "execution_count": 27,
   "id": "6a33dc04",
   "metadata": {
    "execution": {
     "iopub.execute_input": "2021-11-09T09:43:51.775945Z",
     "iopub.status.busy": "2021-11-09T09:43:51.775206Z",
     "iopub.status.idle": "2021-11-09T09:43:51.987355Z",
     "shell.execute_reply": "2021-11-09T09:43:51.986715Z",
     "shell.execute_reply.started": "2021-11-09T09:12:44.302725Z"
    },
    "papermill": {
     "duration": 0.262742,
     "end_time": "2021-11-09T09:43:51.987513",
     "exception": false,
     "start_time": "2021-11-09T09:43:51.724771",
     "status": "completed"
    },
    "tags": []
   },
   "outputs": [
    {
     "data": {
      "text/plain": [
       "RandomForestClassifier(criterion='entropy', n_estimators=35, random_state=42)"
      ]
     },
     "execution_count": 27,
     "metadata": {},
     "output_type": "execute_result"
    }
   ],
   "source": [
    "from sklearn.ensemble import RandomForestClassifier\n",
    "model = RandomForestClassifier(n_estimators=35, random_state=42, criterion='entropy')\n",
    "model.fit(x_train, y_train)"
   ]
  },
  {
   "cell_type": "code",
   "execution_count": 28,
   "id": "4e27266f",
   "metadata": {
    "execution": {
     "iopub.execute_input": "2021-11-09T09:43:52.094337Z",
     "iopub.status.busy": "2021-11-09T09:43:52.093619Z",
     "iopub.status.idle": "2021-11-09T09:43:52.131430Z",
     "shell.execute_reply": "2021-11-09T09:43:52.132009Z",
     "shell.execute_reply.started": "2021-11-09T09:17:05.117592Z"
    },
    "papermill": {
     "duration": 0.096268,
     "end_time": "2021-11-09T09:43:52.132227",
     "exception": false,
     "start_time": "2021-11-09T09:43:52.035959",
     "status": "completed"
    },
    "tags": []
   },
   "outputs": [
    {
     "data": {
      "text/plain": [
       "0.8571428571428571"
      ]
     },
     "execution_count": 28,
     "metadata": {},
     "output_type": "execute_result"
    }
   ],
   "source": [
    "y_predict = model.predict(x_test)\n",
    "\n",
    "scores.append({\n",
    "    'model' : 'RandomForestClassifier',\n",
    "    'score' :  model.score(x_test,y_test),\n",
    "'f1_score'  :  f1_score(y_test , pred)\n",
    "})\n",
    "\n",
    "model.score(x_test,y_test)"
   ]
  },
  {
   "cell_type": "markdown",
   "id": "d9faa6e0",
   "metadata": {
    "papermill": {
     "duration": 0.047583,
     "end_time": "2021-11-09T09:43:52.227665",
     "exception": false,
     "start_time": "2021-11-09T09:43:52.180082",
     "status": "completed"
    },
    "tags": []
   },
   "source": [
    "# DecisionTree Classifier"
   ]
  },
  {
   "cell_type": "code",
   "execution_count": 29,
   "id": "a204be15",
   "metadata": {
    "execution": {
     "iopub.execute_input": "2021-11-09T09:43:52.330904Z",
     "iopub.status.busy": "2021-11-09T09:43:52.330213Z",
     "iopub.status.idle": "2021-11-09T09:43:52.341272Z",
     "shell.execute_reply": "2021-11-09T09:43:52.341795Z",
     "shell.execute_reply.started": "2021-11-09T09:22:12.513379Z"
    },
    "papermill": {
     "duration": 0.066292,
     "end_time": "2021-11-09T09:43:52.341986",
     "exception": false,
     "start_time": "2021-11-09T09:43:52.275694",
     "status": "completed"
    },
    "tags": []
   },
   "outputs": [
    {
     "data": {
      "text/plain": [
       "DecisionTreeClassifier(criterion='entropy', random_state=42, splitter='random')"
      ]
     },
     "execution_count": 29,
     "metadata": {},
     "output_type": "execute_result"
    }
   ],
   "source": [
    "from sklearn.tree import DecisionTreeClassifier\n",
    " \n",
    "model = DecisionTreeClassifier( random_state=42, criterion='entropy', splitter='random')\n",
    "model.fit(x_train, y_train)"
   ]
  },
  {
   "cell_type": "code",
   "execution_count": 30,
   "id": "30194a44",
   "metadata": {
    "execution": {
     "iopub.execute_input": "2021-11-09T09:43:52.446446Z",
     "iopub.status.busy": "2021-11-09T09:43:52.445683Z",
     "iopub.status.idle": "2021-11-09T09:43:52.455066Z",
     "shell.execute_reply": "2021-11-09T09:43:52.455604Z",
     "shell.execute_reply.started": "2021-11-09T09:23:12.473327Z"
    },
    "papermill": {
     "duration": 0.065804,
     "end_time": "2021-11-09T09:43:52.455778",
     "exception": false,
     "start_time": "2021-11-09T09:43:52.389974",
     "status": "completed"
    },
    "tags": []
   },
   "outputs": [
    {
     "data": {
      "text/plain": [
       "0.8571428571428571"
      ]
     },
     "execution_count": 30,
     "metadata": {},
     "output_type": "execute_result"
    }
   ],
   "source": [
    "y_predict = model.predict(x_test)\n",
    "\n",
    "scores.append({\n",
    "    'model' : 'DecisionTreeClassifier',\n",
    "    'score' :  model.score(x_test,y_test),\n",
    "'f1_score'  :  f1_score(y_test , pred)\n",
    "})\n",
    "\n",
    "model.score(x_test,y_test)"
   ]
  },
  {
   "cell_type": "markdown",
   "id": "904a2250",
   "metadata": {
    "papermill": {
     "duration": 0.050532,
     "end_time": "2021-11-09T09:43:52.557313",
     "exception": false,
     "start_time": "2021-11-09T09:43:52.506781",
     "status": "completed"
    },
    "tags": []
   },
   "source": [
    "# XGBRFClassifier"
   ]
  },
  {
   "cell_type": "code",
   "execution_count": 31,
   "id": "ea2801ff",
   "metadata": {
    "execution": {
     "iopub.execute_input": "2021-11-09T09:43:52.660071Z",
     "iopub.status.busy": "2021-11-09T09:43:52.659362Z",
     "iopub.status.idle": "2021-11-09T09:43:53.234016Z",
     "shell.execute_reply": "2021-11-09T09:43:53.233477Z",
     "shell.execute_reply.started": "2021-11-09T09:29:03.185210Z"
    },
    "papermill": {
     "duration": 0.628213,
     "end_time": "2021-11-09T09:43:53.234187",
     "exception": false,
     "start_time": "2021-11-09T09:43:52.605974",
     "status": "completed"
    },
    "tags": []
   },
   "outputs": [
    {
     "data": {
      "text/plain": [
       "XGBRFClassifier(base_score=0.5, booster='gbtree', colsample_bylevel=1,\n",
       "                colsample_bytree=1, enable_categorical=False,\n",
       "                eval_metric='mlogloss', gamma=0, gpu_id=-1,\n",
       "                importance_type=None, interaction_constraints='',\n",
       "                learning_rate=0.01, max_delta_step=0, max_depth=10,\n",
       "                min_child_weight=1, missing=nan, monotone_constraints='()',\n",
       "                n_estimators=100, n_jobs=4, num_parallel_tree=100,\n",
       "                objective='binary:logistic', predictor='auto', random_state=42,\n",
       "                reg_alpha=0, scale_pos_weight=1.5, tree_method='exact',\n",
       "                validate_parameters=1, verbosity=None)"
      ]
     },
     "execution_count": 31,
     "metadata": {},
     "output_type": "execute_result"
    }
   ],
   "source": [
    "from xgboost import XGBRFClassifier\n",
    "\n",
    "model = XGBRFClassifier(eval_metric='mlogloss',\n",
    "                        random_state=42,\n",
    "                       learning_rate=0.01,\n",
    "                       max_depth=10, \n",
    "                       scale_pos_weight=1.5)\n",
    "model.fit(x_train, y_train)"
   ]
  },
  {
   "cell_type": "code",
   "execution_count": 32,
   "id": "bae1ffc0",
   "metadata": {
    "execution": {
     "iopub.execute_input": "2021-11-09T09:43:53.340964Z",
     "iopub.status.busy": "2021-11-09T09:43:53.337945Z",
     "iopub.status.idle": "2021-11-09T09:43:53.375712Z",
     "shell.execute_reply": "2021-11-09T09:43:53.376297Z",
     "shell.execute_reply.started": "2021-11-09T09:29:25.442401Z"
    },
    "papermill": {
     "duration": 0.091945,
     "end_time": "2021-11-09T09:43:53.376505",
     "exception": false,
     "start_time": "2021-11-09T09:43:53.284560",
     "status": "completed"
    },
    "tags": []
   },
   "outputs": [
    {
     "data": {
      "text/plain": [
       "0.8796992481203008"
      ]
     },
     "execution_count": 32,
     "metadata": {},
     "output_type": "execute_result"
    }
   ],
   "source": [
    "pred=model.predict(x_test)\n",
    "\n",
    "scores.append({\n",
    "        'model': 'XGBRFClassifier',\n",
    "        'score': model.score(x_test,y_test),\n",
    "    'f1_score' : f1_score(y_test,pred)\n",
    "    })\n",
    "\n",
    "\n",
    "model.score(x_test, y_test)"
   ]
  },
  {
   "cell_type": "markdown",
   "id": "a5069680",
   "metadata": {
    "papermill": {
     "duration": 0.052767,
     "end_time": "2021-11-09T09:43:53.481535",
     "exception": false,
     "start_time": "2021-11-09T09:43:53.428768",
     "status": "completed"
    },
    "tags": []
   },
   "source": [
    "# Complete Analysis"
   ]
  },
  {
   "cell_type": "code",
   "execution_count": 33,
   "id": "07ddc304",
   "metadata": {
    "execution": {
     "iopub.execute_input": "2021-11-09T09:43:53.589689Z",
     "iopub.status.busy": "2021-11-09T09:43:53.588973Z",
     "iopub.status.idle": "2021-11-09T09:43:53.603007Z",
     "shell.execute_reply": "2021-11-09T09:43:53.603592Z",
     "shell.execute_reply.started": "2021-11-09T09:30:03.617511Z"
    },
    "papermill": {
     "duration": 0.072215,
     "end_time": "2021-11-09T09:43:53.603886",
     "exception": false,
     "start_time": "2021-11-09T09:43:53.531671",
     "status": "completed"
    },
    "tags": []
   },
   "outputs": [
    {
     "data": {
      "text/html": [
       "<div>\n",
       "<style scoped>\n",
       "    .dataframe tbody tr th:only-of-type {\n",
       "        vertical-align: middle;\n",
       "    }\n",
       "\n",
       "    .dataframe tbody tr th {\n",
       "        vertical-align: top;\n",
       "    }\n",
       "\n",
       "    .dataframe thead th {\n",
       "        text-align: right;\n",
       "    }\n",
       "</style>\n",
       "<table border=\"1\" class=\"dataframe\">\n",
       "  <thead>\n",
       "    <tr style=\"text-align: right;\">\n",
       "      <th></th>\n",
       "      <th>model</th>\n",
       "      <th>score</th>\n",
       "      <th>f1_score</th>\n",
       "    </tr>\n",
       "  </thead>\n",
       "  <tbody>\n",
       "    <tr>\n",
       "      <th>3</th>\n",
       "      <td>XGBRFClassifier</td>\n",
       "      <td>0.879699</td>\n",
       "      <td>0.797834</td>\n",
       "    </tr>\n",
       "    <tr>\n",
       "      <th>1</th>\n",
       "      <td>RandomForestClassifier</td>\n",
       "      <td>0.857143</td>\n",
       "      <td>0.697856</td>\n",
       "    </tr>\n",
       "    <tr>\n",
       "      <th>2</th>\n",
       "      <td>DecisionTreeClassifier</td>\n",
       "      <td>0.857143</td>\n",
       "      <td>0.697856</td>\n",
       "    </tr>\n",
       "    <tr>\n",
       "      <th>0</th>\n",
       "      <td>KNeighborsClassifier</td>\n",
       "      <td>0.833512</td>\n",
       "      <td>0.697856</td>\n",
       "    </tr>\n",
       "  </tbody>\n",
       "</table>\n",
       "</div>"
      ],
      "text/plain": [
       "                    model     score  f1_score\n",
       "3         XGBRFClassifier  0.879699  0.797834\n",
       "1  RandomForestClassifier  0.857143  0.697856\n",
       "2  DecisionTreeClassifier  0.857143  0.697856\n",
       "0    KNeighborsClassifier  0.833512  0.697856"
      ]
     },
     "execution_count": 33,
     "metadata": {},
     "output_type": "execute_result"
    }
   ],
   "source": [
    "Score = pd.DataFrame(scores,columns=['model','score','f1_score'])\n",
    "Score.sort_values('score',ascending=False,inplace=True)\n",
    "Score"
   ]
  },
  {
   "cell_type": "code",
   "execution_count": 34,
   "id": "3c41dba7",
   "metadata": {
    "execution": {
     "iopub.execute_input": "2021-11-09T09:43:53.708076Z",
     "iopub.status.busy": "2021-11-09T09:43:53.707338Z",
     "iopub.status.idle": "2021-11-09T09:43:53.958076Z",
     "shell.execute_reply": "2021-11-09T09:43:53.957522Z",
     "shell.execute_reply.started": "2021-11-09T09:30:50.704484Z"
    },
    "papermill": {
     "duration": 0.303966,
     "end_time": "2021-11-09T09:43:53.958250",
     "exception": false,
     "start_time": "2021-11-09T09:43:53.654284",
     "status": "completed"
    },
    "tags": []
   },
   "outputs": [
    {
     "data": {
      "image/png": "[encoded data removed]",
      "text/plain": [
       "<Figure size 720x360 with 1 Axes>"
      ]
     },
     "metadata": {
      "needs_background": "light"
     },
     "output_type": "display_data"
    }
   ],
   "source": [
    "plt.figure(figsize=(10,5))\n",
    "sns.barplot(y=Score['model'],x=Score['score'])\n",
    "plt.tight_layout()\n",
    "\n",
    "plt.show()"
   ]
  },
  {
   "cell_type": "markdown",
   "id": "b1adcf32",
   "metadata": {
    "papermill": {
     "duration": 0.051753,
     "end_time": "2021-11-09T09:43:54.061200",
     "exception": false,
     "start_time": "2021-11-09T09:43:54.009447",
     "status": "completed"
    },
    "tags": []
   },
   "source": [
    "**Best Model**"
   ]
  },
  {
   "cell_type": "markdown",
   "id": "f1767fa1",
   "metadata": {
    "papermill": {
     "duration": 0.050715,
     "end_time": "2021-11-09T09:43:54.162636",
     "exception": false,
     "start_time": "2021-11-09T09:43:54.111921",
     "status": "completed"
    },
    "tags": []
   },
   "source": [
    "XGBRFClassifier model gives the best accuracy of 0.879% to predict whether the employee will leave the company or not."
   ]
  },
  {
   "cell_type": "markdown",
   "id": "3101e101",
   "metadata": {
    "papermill": {
     "duration": 0.050198,
     "end_time": "2021-11-09T09:43:54.263360",
     "exception": false,
     "start_time": "2021-11-09T09:43:54.213162",
     "status": "completed"
    },
    "tags": []
   },
   "source": [
    "# Thank you !!\n",
    "\n",
    "Please upvote if you liked my work :):)"
   ]
  }
 ],
 "metadata": {
  "kernelspec": {
   "display_name": "Python 3",
   "language": "python",
   "name": "python3"
  },
  "language_info": {
   "codemirror_mode": {
    "name": "ipython",
    "version": 3
   },
   "file_extension": ".py",
   "mimetype": "text/x-python",
   "name": "python",
   "nbconvert_exporter": "python",
   "pygments_lexer": "ipython3",
   "version": "3.7.10"
  },
  "papermill": {
   "default_parameters": {},
   "duration": 20.503628,
   "end_time": "2021-11-09T09:43:55.227286",
   "environment_variables": {},
   "exception": null,
   "input_path": "__notebook__.ipynb",
   "output_path": "__notebook__.ipynb",
   "parameters": {},
   "start_time": "2021-11-09T09:43:34.723658",
   "version": "2.3.3"
  }
 },
 "nbformat": 4,
 "nbformat_minor": 5
}
